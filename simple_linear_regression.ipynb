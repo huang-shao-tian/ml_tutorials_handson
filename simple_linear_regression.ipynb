{
  "nbformat": 4,
  "nbformat_minor": 0,
  "metadata": {
    "colab": {
      "provenance": [],
      "include_colab_link": true
    },
    "kernelspec": {
      "name": "python3",
      "display_name": "Python 3"
    }
  },
  "cells": [
    {
      "cell_type": "markdown",
      "metadata": {
        "id": "view-in-github",
        "colab_type": "text"
      },
      "source": [
        "<a href=\"https://colab.research.google.com/github/huang-shao-tian/ml_tutorials_handson/blob/main/simple_linear_regression.ipynb\" target=\"_parent\"><img src=\"https://colab.research.google.com/assets/colab-badge.svg\" alt=\"Open In Colab\"/></a>"
      ]
    },
    {
      "cell_type": "markdown",
      "metadata": {
        "id": "l_LulNCC8z96"
      },
      "source": [
        "# Simple Linear Regression"
      ]
    },
    {
      "cell_type": "markdown",
      "metadata": {
        "id": "xpXdowrE9DxW"
      },
      "source": [
        "\n",
        "\n",
        "## Importing the libraries"
      ]
    },
    {
      "cell_type": "code",
      "metadata": {
        "id": "nhKd4hWx9GFt"
      },
      "source": [
        "# NumPy（Numerical Python）：数値データの計算や操作を効率的に行うためのライブラリ\n",
        "import numpy as np\n",
        "\n",
        "# pandas：表形式（データフレーム）のデータ操作や分析を容易に行うためのライブラリ\n",
        "import pandas as pd\n",
        "\n",
        "# matplotlib：データをグラフや図で視覚化するためのライブラリ\n",
        "# pyplot：matplotlibの中で、シンプルかつ柔軟にグラフを作成できるサブモジュール\n",
        "import matplotlib.pyplot as plt"
      ],
      "execution_count": 4,
      "outputs": []
    },
    {
      "cell_type": "markdown",
      "metadata": {
        "id": "6JhpWJi59J1p"
      },
      "source": [
        "## Importing the dataset"
      ]
    },
    {
      "cell_type": "code",
      "metadata": {
        "id": "f8GfYDZ59O18",
        "colab": {
          "base_uri": "https://localhost:8080/"
        },
        "outputId": "10256c0c-23a6-4f60-df04-b24779d68b6a"
      },
      "source": [
        "# CSVファイルからデータセットを読み込み、データフレームを作成\n",
        "dataset = pd.read_csv('Boston_House_Prices.csv')\n",
        "\n",
        "# 説明変数（特徴量）を抽出：すべての行の、最後の列を除いた全ての列を取得\n",
        "X = dataset.iloc[:, :-1].values\n",
        "\n",
        "# 目的変数（ターゲット）を抽出：すべての行の、最後の列を取得\n",
        "y = dataset.iloc[:, -1].values\n",
        "\n",
        "# データフレームを出力する\n",
        "print(dataset)"
      ],
      "execution_count": 6,
      "outputs": [
        {
          "output_type": "stream",
          "name": "stdout",
          "text": [
            "    CRIM（犯罪率）  MEDV（住宅価格 単位: 1000ドル）\n",
            "0     0.00632                   24.0\n",
            "1     0.02731                   21.6\n",
            "2     0.02729                   34.7\n",
            "3     0.03237                   33.4\n",
            "4     0.06905                   36.2\n",
            "..        ...                    ...\n",
            "95    0.12204                   28.4\n",
            "96    0.11504                   21.4\n",
            "97    0.12083                   38.7\n",
            "98    0.08187                   43.8\n",
            "99    0.06860                   33.2\n",
            "\n",
            "[100 rows x 2 columns]\n"
          ]
        }
      ]
    },
    {
      "cell_type": "markdown",
      "metadata": {
        "id": "AyhQaTwP9RzG"
      },
      "source": [
        "## Splitting the dataset into the Training set and Test set"
      ]
    },
    {
      "cell_type": "code",
      "metadata": {
        "id": "bxOOauiN9VpC",
        "colab": {
          "base_uri": "https://localhost:8080/"
        },
        "outputId": "98d66d95-6307-4f23-f977-4db626a6f290"
      },
      "source": [
        "# sklearn: 機械学習のためのライブラリで、多くのアルゴリズムやデータ前処理の機能を提供\n",
        "# model_selection: データの分割やモデルの評価のためのモジュール\n",
        "import sklearn.model_selection as msl\n",
        "\n",
        "# 訓練データとテストデータに分割\n",
        "# X: 説明変数（特徴量）、y: 目的変数（ラベル）\n",
        "# test_size = 1/3 はデータ全体の 1/3 をテストデータに割り当てることを意味します\n",
        "# random_state = 0 は乱数シードを固定して、実行ごとに同じ分割結果を得るためのものです\n",
        "X_train, X_test, y_train, y_test = msl.train_test_split(X, y, test_size=1/3, random_state=0)\n",
        "print(X_train)\n",
        "print(y_train)\n",
        "print(X_test)\n",
        "print(y_test)"
      ],
      "execution_count": 7,
      "outputs": [
        {
          "output_type": "stream",
          "name": "stdout",
          "text": [
            "[[0.04337]\n",
            " [0.95577]\n",
            " [0.80271]\n",
            " [0.02055]\n",
            " [0.1265 ]\n",
            " [0.07896]\n",
            " [0.02731]\n",
            " [0.17171]\n",
            " [0.1415 ]\n",
            " [0.12744]\n",
            " [0.06905]\n",
            " [0.62739]\n",
            " [0.7842 ]\n",
            " [0.03359]\n",
            " [0.17505]\n",
            " [0.02985]\n",
            " [0.03932]\n",
            " [0.10328]\n",
            " [0.00632]\n",
            " [1.61282]\n",
            " [0.77299]\n",
            " [0.08873]\n",
            " [0.11747]\n",
            " [0.06417]\n",
            " [0.98843]\n",
            " [0.0536 ]\n",
            " [0.22489]\n",
            " [1.35472]\n",
            " [0.04379]\n",
            " [0.01432]\n",
            " [0.08387]\n",
            " [0.05735]\n",
            " [1.38799]\n",
            " [0.05059]\n",
            " [0.63796]\n",
            " [0.05302]\n",
            " [0.7258 ]\n",
            " [1.00245]\n",
            " [0.21977]\n",
            " [0.12083]\n",
            " [0.08187]\n",
            " [0.12816]\n",
            " [1.25179]\n",
            " [0.04294]\n",
            " [0.09164]\n",
            " [0.08707]\n",
            " [0.84054]\n",
            " [0.08014]\n",
            " [0.04462]\n",
            " [0.18836]\n",
            " [0.02763]\n",
            " [0.03584]\n",
            " [0.15445]\n",
            " [0.09378]\n",
            " [0.0566 ]\n",
            " [0.08826]\n",
            " [0.07151]\n",
            " [0.09744]\n",
            " [0.85204]\n",
            " [0.03551]\n",
            " [0.17004]\n",
            " [0.11504]\n",
            " [0.05789]\n",
            " [0.01951]\n",
            " [0.22927]\n",
            " [0.12269]]\n",
            "[20.5 14.8 20.2 24.7 25.  24.1 21.6 16.  25.3 26.6 36.2 19.9 17.5 34.9\n",
            " 24.7 28.7 22.  19.6 24.  13.5 18.4 19.7 18.9 18.9 14.5 25.  15.  14.5\n",
            " 19.4 31.6 20.3 26.6 13.2 23.9 18.2 28.7 18.2 21.  19.4 38.7 43.8 20.9\n",
            " 13.6 20.6 22.8 20.8 13.9 21.  23.9 20.  30.8 23.5 23.3 21.7 23.6 24.2\n",
            " 22.2 20.  19.6 22.9 18.9 21.4 22.  33.  16.6 21.2]\n",
            "[[0.67191]\n",
            " [0.05188]\n",
            " [0.02729]\n",
            " [0.01311]\n",
            " [0.09512]\n",
            " [0.02875]\n",
            " [1.05393]\n",
            " [0.19539]\n",
            " [0.0136 ]\n",
            " [0.12204]\n",
            " [0.04981]\n",
            " [0.04203]\n",
            " [0.05646]\n",
            " [0.62976]\n",
            " [0.14455]\n",
            " [1.13081]\n",
            " [1.23247]\n",
            " [0.75026]\n",
            " [1.15172]\n",
            " [0.21124]\n",
            " [0.15936]\n",
            " [0.11027]\n",
            " [0.03237]\n",
            " [0.15876]\n",
            " [0.17142]\n",
            " [0.25387]\n",
            " [0.08829]\n",
            " [0.0686 ]\n",
            " [0.03659]\n",
            " [0.10153]\n",
            " [0.14932]\n",
            " [0.04113]\n",
            " [0.04684]\n",
            " [0.13554]]\n",
            "[16.6 22.5 34.7 35.4 21.4 25.  23.1 23.4 18.9 28.4 23.4 22.9 21.2 20.4\n",
            " 27.1 12.7 15.2 15.6 13.1 16.5 24.7 22.2 33.4 21.7 19.3 14.4 22.9 33.2\n",
            " 24.8 20.  18.7 28.  22.6 17.4]\n"
          ]
        }
      ]
    },
    {
      "cell_type": "markdown",
      "metadata": {
        "id": "ZijQwFMQ9itx"
      },
      "source": [
        "## Training the Simple Linear Regression model on the Training set"
      ]
    },
    {
      "cell_type": "code",
      "metadata": {
        "id": "B4Aj_8YJ9l7J",
        "colab": {
          "base_uri": "https://localhost:8080/",
          "height": 75
        },
        "outputId": "518dcd20-19e5-4ce8-f633-6f789ee19235"
      },
      "source": [
        "# sklearn: 機械学習のためのライブラリで、多くのアルゴリズムやデータ前処理の機能を提供\n",
        "# linear_model: 「線形モデル」を実装するためのクラスや関数が集められているモジュール\n",
        "import sklearn.linear_model as lm\n",
        "\n",
        "# 線形回帰モデルのインスタンスを作成するアルゴリズム\n",
        "regressor =lm.LinearRegression()\n",
        "\n",
        "# 訓練データ（X_train, y_train）を使用して線形回帰モデルを訓練\n",
        "regressor.fit(X_train, y_train)"
      ],
      "execution_count": 10,
      "outputs": [
        {
          "output_type": "execute_result",
          "data": {
            "text/plain": [
              "LinearRegression()"
            ],
            "text/html": [
              "<style>#sk-container-id-2 {color: black;}#sk-container-id-2 pre{padding: 0;}#sk-container-id-2 div.sk-toggleable {background-color: white;}#sk-container-id-2 label.sk-toggleable__label {cursor: pointer;display: block;width: 100%;margin-bottom: 0;padding: 0.3em;box-sizing: border-box;text-align: center;}#sk-container-id-2 label.sk-toggleable__label-arrow:before {content: \"▸\";float: left;margin-right: 0.25em;color: #696969;}#sk-container-id-2 label.sk-toggleable__label-arrow:hover:before {color: black;}#sk-container-id-2 div.sk-estimator:hover label.sk-toggleable__label-arrow:before {color: black;}#sk-container-id-2 div.sk-toggleable__content {max-height: 0;max-width: 0;overflow: hidden;text-align: left;background-color: #f0f8ff;}#sk-container-id-2 div.sk-toggleable__content pre {margin: 0.2em;color: black;border-radius: 0.25em;background-color: #f0f8ff;}#sk-container-id-2 input.sk-toggleable__control:checked~div.sk-toggleable__content {max-height: 200px;max-width: 100%;overflow: auto;}#sk-container-id-2 input.sk-toggleable__control:checked~label.sk-toggleable__label-arrow:before {content: \"▾\";}#sk-container-id-2 div.sk-estimator input.sk-toggleable__control:checked~label.sk-toggleable__label {background-color: #d4ebff;}#sk-container-id-2 div.sk-label input.sk-toggleable__control:checked~label.sk-toggleable__label {background-color: #d4ebff;}#sk-container-id-2 input.sk-hidden--visually {border: 0;clip: rect(1px 1px 1px 1px);clip: rect(1px, 1px, 1px, 1px);height: 1px;margin: -1px;overflow: hidden;padding: 0;position: absolute;width: 1px;}#sk-container-id-2 div.sk-estimator {font-family: monospace;background-color: #f0f8ff;border: 1px dotted black;border-radius: 0.25em;box-sizing: border-box;margin-bottom: 0.5em;}#sk-container-id-2 div.sk-estimator:hover {background-color: #d4ebff;}#sk-container-id-2 div.sk-parallel-item::after {content: \"\";width: 100%;border-bottom: 1px solid gray;flex-grow: 1;}#sk-container-id-2 div.sk-label:hover label.sk-toggleable__label {background-color: #d4ebff;}#sk-container-id-2 div.sk-serial::before {content: \"\";position: absolute;border-left: 1px solid gray;box-sizing: border-box;top: 0;bottom: 0;left: 50%;z-index: 0;}#sk-container-id-2 div.sk-serial {display: flex;flex-direction: column;align-items: center;background-color: white;padding-right: 0.2em;padding-left: 0.2em;position: relative;}#sk-container-id-2 div.sk-item {position: relative;z-index: 1;}#sk-container-id-2 div.sk-parallel {display: flex;align-items: stretch;justify-content: center;background-color: white;position: relative;}#sk-container-id-2 div.sk-item::before, #sk-container-id-2 div.sk-parallel-item::before {content: \"\";position: absolute;border-left: 1px solid gray;box-sizing: border-box;top: 0;bottom: 0;left: 50%;z-index: -1;}#sk-container-id-2 div.sk-parallel-item {display: flex;flex-direction: column;z-index: 1;position: relative;background-color: white;}#sk-container-id-2 div.sk-parallel-item:first-child::after {align-self: flex-end;width: 50%;}#sk-container-id-2 div.sk-parallel-item:last-child::after {align-self: flex-start;width: 50%;}#sk-container-id-2 div.sk-parallel-item:only-child::after {width: 0;}#sk-container-id-2 div.sk-dashed-wrapped {border: 1px dashed gray;margin: 0 0.4em 0.5em 0.4em;box-sizing: border-box;padding-bottom: 0.4em;background-color: white;}#sk-container-id-2 div.sk-label label {font-family: monospace;font-weight: bold;display: inline-block;line-height: 1.2em;}#sk-container-id-2 div.sk-label-container {text-align: center;}#sk-container-id-2 div.sk-container {/* jupyter's `normalize.less` sets `[hidden] { display: none; }` but bootstrap.min.css set `[hidden] { display: none !important; }` so we also need the `!important` here to be able to override the default hidden behavior on the sphinx rendered scikit-learn.org. See: https://github.com/scikit-learn/scikit-learn/issues/21755 */display: inline-block !important;position: relative;}#sk-container-id-2 div.sk-text-repr-fallback {display: none;}</style><div id=\"sk-container-id-2\" class=\"sk-top-container\"><div class=\"sk-text-repr-fallback\"><pre>LinearRegression()</pre><b>In a Jupyter environment, please rerun this cell to show the HTML representation or trust the notebook. <br />On GitHub, the HTML representation is unable to render, please try loading this page with nbviewer.org.</b></div><div class=\"sk-container\" hidden><div class=\"sk-item\"><div class=\"sk-estimator sk-toggleable\"><input class=\"sk-toggleable__control sk-hidden--visually\" id=\"sk-estimator-id-2\" type=\"checkbox\" checked><label for=\"sk-estimator-id-2\" class=\"sk-toggleable__label sk-toggleable__label-arrow\">LinearRegression</label><div class=\"sk-toggleable__content\"><pre>LinearRegression()</pre></div></div></div></div></div>"
            ]
          },
          "metadata": {},
          "execution_count": 10
        }
      ]
    },
    {
      "cell_type": "markdown",
      "metadata": {
        "id": "wa2T1Lq89o5H"
      },
      "source": [
        "## Predicting the Test set results"
      ]
    },
    {
      "cell_type": "code",
      "metadata": {
        "id": "Rn_sTJ2o9smm",
        "colab": {
          "base_uri": "https://localhost:8080/"
        },
        "outputId": "a795275a-4506-4b86-c02c-892feb45a0a9"
      },
      "source": [
        "# 学習済みの線形回帰モデルを使って、テストデータ（X_test）の予測を行う\n",
        "y_pred = regressor.predict(X_test)\n",
        "\n",
        "# 予測結果を表示\n",
        "print(y_pred)"
      ],
      "execution_count": 11,
      "outputs": [
        {
          "output_type": "stream",
          "name": "stdout",
          "text": [
            "[19.06368959 24.26859328 24.47501649 24.59405191 23.90561079 24.46276037\n",
            " 15.85678459 23.06388427 24.58993856 23.67962816 24.2859701  24.35128009\n",
            " 24.23014601 19.41752197 23.49066572 15.21140776 14.35801274 18.4059727\n",
            " 15.03587667 22.93082986 23.3663417  23.7784326  24.43237192 23.37137846\n",
            " 23.26510282 22.57296807 23.9629459  24.12823557 24.39694671 23.8518014\n",
            " 23.45062348 24.35883523 24.31090206 23.56630106]\n"
          ]
        }
      ]
    },
    {
      "cell_type": "markdown",
      "metadata": {
        "id": "-zSoMZ-P9v8t"
      },
      "source": [
        "## Visualising the Training set results"
      ]
    },
    {
      "cell_type": "code",
      "metadata": {
        "id": "IAePn_u-93tI",
        "colab": {
          "base_uri": "https://localhost:8080/",
          "height": 472
        },
        "outputId": "6484dedb-6a3f-4a8d-e707-680b525948ef"
      },
      "source": [
        "# 訓練データの散布図を作成（X_trainとy_trainをプロット）。赤色の点でプロット\n",
        "plt.scatter(X_train, y_train, color='red')\n",
        "\n",
        "# 線形回帰モデルによる訓練データ上での予測値をプロット。青色の線で回帰直線を描画\n",
        "plt.plot(X_train, regressor.predict(X_train), color='blue')\n",
        "\n",
        "# グラフのタイトルを設定\n",
        "plt.title('MEDV vs CRIM (Training set)')\n",
        "\n",
        "# x軸のラベルを設定\n",
        "plt.xlabel('CRIM')\n",
        "\n",
        "# y軸のラベルを設定\n",
        "plt.ylabel('MEDV')\n",
        "\n",
        "# グラフを表示\n",
        "plt.show()"
      ],
      "execution_count": 14,
      "outputs": [
        {
          "output_type": "display_data",
          "data": {
            "text/plain": [
              "<Figure size 640x480 with 1 Axes>"
            ],
            "image/png": "[encoded data removed]"
          },
          "metadata": {}
        }
      ]
    },
    {
      "cell_type": "markdown",
      "metadata": {
        "id": "EUX1Vhsv97ZT"
      },
      "source": [
        "## Visualising the Test set results"
      ]
    },
    {
      "cell_type": "code",
      "metadata": {
        "id": "Ze9vpBTf-Bol",
        "colab": {
          "base_uri": "https://localhost:8080/",
          "height": 472
        },
        "outputId": "2eb76500-1443-4ad8-f415-1548f3a9776a"
      },
      "source": [
        "# テストデータの散布図を作成（X_testとy_testをプロット）。赤色の点でプロット\n",
        "plt.scatter(X_test, y_test, color='red')\n",
        "\n",
        "# 線形回帰モデルによるテストデータ上での予測値をプロット。青色の線で回帰直線を描画\n",
        "plt.plot(X_test, regressor.predict(X_test), color='blue')\n",
        "\n",
        "# グラフのタイトルを設定\n",
        "plt.title('MEDV vs CRIM (Test set)')\n",
        "\n",
        "# x軸のラベルを設定\n",
        "plt.xlabel('CRIM')\n",
        "\n",
        "# y軸のラベルを設定\n",
        "plt.ylabel('MEDV')\n",
        "\n",
        "# グラフを表示\n",
        "plt.show()"
      ],
      "execution_count": 15,
      "outputs": [
        {
          "output_type": "display_data",
          "data": {
            "text/plain": [
              "<Figure size 640x480 with 1 Axes>"
            ],
            "image/png": "[encoded data removed]"
          },
          "metadata": {}
        }
      ]
    }
  ]
}